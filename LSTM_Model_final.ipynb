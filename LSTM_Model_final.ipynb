{
 "cells": [
  {
   "cell_type": "markdown",
   "id": "718c38cf",
   "metadata": {},
   "source": [
    "## Install the package dependencies before running this notebook"
   ]
  },
  {
   "cell_type": "code",
   "execution_count": 1,
   "id": "16ac7530",
   "metadata": {},
   "outputs": [
    {
     "data": {
      "text/plain": [
       "True"
      ]
     },
     "execution_count": 1,
     "metadata": {},
     "output_type": "execute_result"
    }
   ],
   "source": [
    "import torch\n",
    "import os, os.path \n",
    "import pickle\n",
    "from glob import glob\n",
    "import pandas as pd\n",
    "import numpy as np \n",
    "import random\n",
    "import matplotlib.pyplot as plt\n",
    "import torch.nn as nn\n",
    "from torch.utils.data import Dataset, TensorDataset, DataLoader\n",
    "from torch.optim import Rprop, Adam\n",
    "import math\n",
    "import time\n",
    "import torch.nn.functional as F\n",
    "torch.set_default_dtype(torch.float)\n",
    "\"\"\"\n",
    "    number of trajectories in each city\n",
    "    # austin --  train: 43041 test: 6325 \n",
    "    # miami -- train: 55029 test:7971\n",
    "    # pittsburgh -- train: 43544 test: 6361\n",
    "    # dearborn -- train: 24465 test: 3671\n",
    "    # washington-dc -- train: 25744 test: 3829\n",
    "    # palo-alto -- train:  11993 test:1686\n",
    "\n",
    "    trajectories sampled at 10HZ rate, input 5 seconds, output 6 seconds\n",
    "    \n",
    "\"\"\"\n",
    "def timeSince(since):\n",
    "    now = time.time()\n",
    "    s = now - since\n",
    "    m = math.floor(s / 60)\n",
    "    s -= m * 60\n",
    "    return '%dm %ds' % (m, s)\n",
    "device = torch.device('cuda' if torch.cuda.is_available() else 'cpu')\n",
    "\n",
    "torch.cuda.is_available()"
   ]
  },
  {
   "cell_type": "code",
   "execution_count": null,
   "id": "5a8b0c1d",
   "metadata": {},
   "outputs": [],
   "source": []
  },
  {
   "cell_type": "markdown",
   "id": "0b472cf2",
   "metadata": {},
   "source": [
    "## Create a Torch.Dataset class for the training dataset"
   ]
  },
  {
   "cell_type": "code",
   "execution_count": 2,
   "id": "091abbb7",
   "metadata": {},
   "outputs": [],
   "source": [
    "ROOT_PATH = \"\"\n",
    "\n",
    "cities = [\"austin\", \"miami\", \"pittsburgh\", \"dearborn\", \"washington-dc\", \"palo-alto\"]\n",
    "splits = [\"train\", \"val\", \"test\"]\n",
    "\n",
    "def get_city_trajectories(city=\"palo-alto\", split = \"train\", normalized=False):\n",
    "    if split==\"train\":\n",
    "        f_in = ROOT_PATH + split + \"/\" + city + \"_inputs\"\n",
    "        inputs = pickle.load(open(f_in, \"rb\"))\n",
    "        n = len(inputs)\n",
    "        inputs = np.asarray(inputs)[:int(n * 0.8)]\n",
    "        \n",
    "        f_out = ROOT_PATH + split + \"/\" + city + \"_outputs\"\n",
    "        outputs = pickle.load(open(f_out, \"rb\"))\n",
    "        outputs = np.asarray(outputs)[:int(n * 0.8)]\n",
    "        \n",
    "    elif split == 'val':\n",
    "        f_in = ROOT_PATH + 'train' + \"/\" + city + \"_inputs\"\n",
    "        inputs = pickle.load(open(f_in, \"rb\"))\n",
    "        n = len(inputs)\n",
    "        inputs = np.asarray(inputs)[int(n * 0.8):]\n",
    "        \n",
    "        f_out = ROOT_PATH + 'train' + \"/\" + city + \"_outputs\"\n",
    "        outputs = pickle.load(open(f_out, \"rb\"))\n",
    "        outputs = np.asarray(outputs)[int(n * 0.8):]\n",
    "    \n",
    "    else:\n",
    "        f_in = ROOT_PATH + split + \"/\" + city + \"_inputs\"\n",
    "        inputs = pickle.load(open(f_in, \"rb\"))\n",
    "        n = len(inputs)\n",
    "        inputs = np.asarray(inputs)\n",
    "        outputs = np.zeros((inputs.shape[0], 60, 2))\n",
    "\n",
    "    return inputs, outputs\n",
    "\n",
    "class ArgoverseDataset(Dataset):\n",
    "    \"\"\"Dataset class for Argoverse\"\"\"\n",
    "    def __init__(self, city: str, split:str, transform=None):\n",
    "        super(ArgoverseDataset, self).__init__()\n",
    "        self.transform = transform\n",
    "        self.inputs, self.outputs = get_city_trajectories(city = city, split = split, normalized=False)\n",
    "\n",
    "    def __len__(self):\n",
    "        return len(self.inputs)\n",
    "\n",
    "    def __getitem__(self, idx):\n",
    "        data = (self.inputs[idx], self.outputs[idx])\n",
    "        if self.transform:\n",
    "            data = self.transform(data)\n",
    "        return data\n"
   ]
  },
  {
   "cell_type": "code",
   "execution_count": 4,
   "id": "9e38642c",
   "metadata": {},
   "outputs": [],
   "source": [
    "\"\"\"\n",
    "    number of trajectories in each city\n",
    "    # austin --  train: 43041 test: 6325 \n",
    "    # miami -- train: 55029 test:7971\n",
    "    # pittsburgh -- train: 43544 test: 6361\n",
    "    # dearborn -- train: 24465 test: 3671\n",
    "    # washington-dc -- train: 25744 test: 3829\n",
    "    # palo-alto -- train:  11993 test:1686\n",
    "\n",
    "    trajectories sampled at 10HZ rate, input 5 seconds, output 6 seconds\n",
    "    \n",
    "\"\"\"\n",
    "#get tensor X\n",
    "def get_input_tensor(cities, split):\n",
    "    features = []\n",
    "    observations = 0\n",
    "    for city in cities:\n",
    "        dataset = ArgoverseDataset(city = city, split = split)\n",
    "        observations += len(dataset)\n",
    "        for idx_car in range(len(dataset)):           \n",
    "            # Coordinate feature\n",
    "            inpu, _ = dataset[idx_car]            \n",
    "            \n",
    "            # Record endpoint x,y coordinate\n",
    "            end_pos_x = inpu[-1][0]\n",
    "            end_pos_y = inpu[-1][1]\n",
    "            \n",
    "            # Translation of every point \n",
    "            for pos in range(inpu.shape[0]):\n",
    "                pos_x = inpu[pos][0] -  end_pos_x\n",
    "                pos_y = inpu[pos][1] -  end_pos_y\n",
    "                \n",
    "                features.append(pos_x)\n",
    "                features.append(pos_y)\n",
    " \n",
    "    tensor_x = torch.tensor(features).reshape(observations, 50, 2)  \n",
    "    return tensor_x\n",
    "\n",
    "#get tensor Y \n",
    "def get_out_tensor(cities,split):\n",
    "    features = []\n",
    "    observations = 0\n",
    "    for city in cities:\n",
    "        dataset = ArgoverseDataset(city = city, split = split)\n",
    "        observations += len(dataset)\n",
    "        for i in range(len(dataset)):\n",
    "            # coordinate feature\n",
    "            inpu, out = dataset[i]\n",
    "            \n",
    "            # Record endpoint x,y coordinate\n",
    "            end_pos_x = inpu[-1][0]\n",
    "            end_pos_y = inpu[-1][1]\n",
    "            #Translation of every point\n",
    "            for j in range(out.shape[0]):\n",
    "                pos_x = out[j][0] -  end_pos_x\n",
    "                pos_y = out[j][1] -  end_pos_y\n",
    "                features.append(pos_x)\n",
    "                features.append(pos_y)\n",
    "    \n",
    "    #Reshape: Number of Observations * 60 * 2;             \n",
    "    tensor_y = torch.tensor(features).reshape(observations, 60,2)\n",
    "    return tensor_y\n"
   ]
  },
  {
   "cell_type": "code",
   "execution_count": 6,
   "id": "c05567ba",
   "metadata": {},
   "outputs": [],
   "source": [
    "cities = [\"austin\", \"miami\", \"pittsburgh\", \"dearborn\", \"washington-dc\", \"palo-alto\"]\n",
    "# Train loader Shape: [163051, 256]\n",
    "train_inputs = get_input_tensor(cities, split = \"train\")\n",
    "train_outputs = get_out_tensor(cities,split = \"train\")\n",
    "train_dataset_cpu = TensorDataset(train_inputs, train_outputs)\n",
    "train_loader_cpu = DataLoader(train_dataset_cpu, batch_size = 8, shuffle = True)\n",
    "train_dataset_gpu = TensorDataset(train_inputs.to(device), train_outputs.to(device))\n",
    "\n",
    "# Val loader Shape: [40765, 256]\n",
    "val_inputs = get_input_tensor(cities, split = \"val\")\n",
    "val_outputs = get_out_tensor(cities,split = \"val\")\n",
    "val_dataset_cpu = TensorDataset(val_inputs, val_outputs)\n",
    "val_loader_cpu = DataLoader(val_dataset_cpu, batch_size = 8, shuffle = False)\n",
    "val_dataset_gpu = TensorDataset(val_inputs.to(device), val_outputs.to(device))"
   ]
  },
  {
   "cell_type": "markdown",
   "id": "56991a7a",
   "metadata": {},
   "source": [
    "### Build, Train model and Evaluate "
   ]
  },
  {
   "cell_type": "code",
   "execution_count": 7,
   "id": "0281f5e2",
   "metadata": {},
   "outputs": [],
   "source": [
    "# Train function\n",
    "def train(model, x, y, optimizer, criterion):\n",
    "    optimizer.zero_grad()\n",
    "    output = model(x.float())\n",
    "    loss = criterion(output, y.float())\n",
    "    loss.backward()\n",
    "    optimizer.step()\n",
    "    return loss, output\n",
    "\n",
    "# get val loss function\n",
    "def getValLoss(model, criterion):\n",
    "    total_loss = 0\n",
    "    batch_count = 0\n",
    "    for i_batch, sample_batch in enumerate(val_loader_gpu):\n",
    "        x_val, y_val = sample_batch[0], sample_batch[1]\n",
    "        with torch.no_grad():\n",
    "            output = model(x_val.float())\n",
    "            total_loss += criterion(output, y_val.float()).item()\n",
    "        batch_count +=1\n",
    "    return total_loss/batch_count"
   ]
  },
  {
   "cell_type": "code",
   "execution_count": 8,
   "id": "c82de211",
   "metadata": {},
   "outputs": [],
   "source": [
    "class Net(nn.Module):\n",
    "    def __init__(self):\n",
    "        super(Net, self).__init__()\n",
    "        self.hidden_dim = 256\n",
    "        self.layer_dim = 2\n",
    "        self.input_dim = 2\n",
    "        self.output_dim = 120\n",
    "        self.batch_size = 64\n",
    "        \n",
    "        # LSTM layers\n",
    "        self.fc0 = nn.Linear(in_features = self.input_dim, out_features = self.hidden_dim)\n",
    "        self.lstm = nn.LSTM(\n",
    "            self.hidden_dim, self.hidden_dim, self.layer_dim, batch_first=True\n",
    "        )\n",
    "        self.fc = nn.Linear(in_features = self.hidden_dim, out_features = 2048)\n",
    "        self.act = nn.LeakyReLU()\n",
    "        self.fc2 = nn.Linear(2048,1024)\n",
    "        self.estimator = nn.Linear(1024, 120)\n",
    "    \n",
    "\n",
    "    def init_hidden(self, size):\n",
    "        return torch.zeros(self.layer_dim, size, self.hidden_dim).to(device)\n",
    "\n",
    "    def forward(self, x):\n",
    "        x = self.fc0(x)\n",
    "        h0 = torch.zeros(self.layer_dim, x.shape[0], self.hidden_dim).requires_grad_().to(device)\n",
    "\n",
    "        # Initialize cell state\n",
    "        c0 = torch.zeros(self.layer_dim, x.shape[0], self.hidden_dim).requires_grad_().to(device)\n",
    "\n",
    "        # One time step\n",
    "        out, (hn, cn) = self.lstm(x, (h0.detach(), c0.detach()))\n",
    "        \n",
    "        out = out[:, -1, :]\n",
    "        \n",
    "        out = self.fc(out)\n",
    "        out = self.act(out)\n",
    "        out = self.fc2(out)\n",
    "        out = self.act(out)\n",
    "        out = self.estimator(out)\n",
    "        \n",
    "        \n",
    "        return out.reshape(out.shape[0],60,2)\n"
   ]
  },
  {
   "cell_type": "code",
   "execution_count": null,
   "id": "644ff5e6",
   "metadata": {},
   "outputs": [],
   "source": []
  },
  {
   "cell_type": "code",
   "execution_count": 9,
   "id": "8ac26080",
   "metadata": {
    "scrolled": true
   },
   "outputs": [
    {
     "name": "stdout",
     "output_type": "stream",
     "text": [
      "Time0m 22s, epoch 1, Train loss: 35.94954951741445, Val loss: 24.589666184924898\n",
      "Time0m 45s, epoch 2, Train loss: 23.841831354743082, Val loss: 23.146920612880162\n",
      "Time1m 7s, epoch 3, Train loss: 22.6858760752895, Val loss: 22.590850648425874\n",
      "Time1m 29s, epoch 4, Train loss: 22.102697074881153, Val loss: 23.307947976248606\n",
      "Time1m 52s, epoch 5, Train loss: 21.614434976967015, Val loss: 22.44270115806943\n",
      "Time2m 14s, epoch 6, Train loss: 21.338769639867067, Val loss: 22.876435506911506\n",
      "Time2m 36s, epoch 7, Train loss: 21.098754816564323, Val loss: 20.70583180018834\n",
      "Time2m 59s, epoch 8, Train loss: 20.92544967974748, Val loss: 21.062057949247816\n",
      "Time3m 21s, epoch 9, Train loss: 20.740231447354592, Val loss: 21.271108990623837\n",
      "Time3m 43s, epoch 10, Train loss: 20.57588111437284, Val loss: 21.897730509440105\n",
      "Time4m 5s, epoch 11, Train loss: 20.38401052042304, Val loss: 20.295320964994886\n",
      "Time4m 27s, epoch 12, Train loss: 20.26362551418915, Val loss: 20.134037017822266\n",
      "Time4m 50s, epoch 13, Train loss: 20.086539127014497, Val loss: 20.42393548148019\n",
      "Time5m 12s, epoch 14, Train loss: 19.962385809402825, Val loss: 20.752541769118537\n",
      "Time5m 34s, epoch 15, Train loss: 19.815224896794774, Val loss: 19.764530636015394\n",
      "Time5m 56s, epoch 16, Train loss: 19.696252966975116, Val loss: 20.19622239612398\n",
      "Time6m 18s, epoch 17, Train loss: 19.557135299760468, Val loss: 19.738196781703405\n",
      "Time6m 41s, epoch 18, Train loss: 19.44867345395979, Val loss: 19.712703886486235\n",
      "Time7m 3s, epoch 19, Train loss: 19.312720527080014, Val loss: 19.374312264578684\n",
      "Time7m 25s, epoch 20, Train loss: 19.157505736433354, Val loss: 19.62182671683175\n",
      "Time7m 48s, epoch 21, Train loss: 19.115357015346245, Val loss: 19.61092621939523\n",
      "Time8m 10s, epoch 22, Train loss: 18.959947153575005, Val loss: 19.511792228335427\n",
      "Time8m 33s, epoch 23, Train loss: 18.832925442623754, Val loss: 19.0398804800851\n",
      "Time8m 54s, epoch 24, Train loss: 18.725079126597574, Val loss: 20.087965465727308\n",
      "Time9m 17s, epoch 25, Train loss: 18.632816350254195, Val loss: 19.020911716279528\n",
      "Time9m 39s, epoch 26, Train loss: 18.50526862466354, Val loss: 18.97329530261812\n",
      "Time10m 1s, epoch 27, Train loss: 18.378508636865362, Val loss: 18.693634578159877\n",
      "Time10m 23s, epoch 28, Train loss: 18.238662402334167, Val loss: 18.604703267415363\n",
      "Time10m 45s, epoch 29, Train loss: 18.112860187443683, Val loss: 18.53835069565546\n",
      "Time11m 7s, epoch 30, Train loss: 18.08148590885863, Val loss: 18.275754111153738\n",
      "Time11m 29s, epoch 31, Train loss: 16.740699922458344, Val loss: 17.454732804071334\n",
      "Time11m 51s, epoch 32, Train loss: 16.517991715922275, Val loss: 17.308892159234908\n",
      "Time12m 13s, epoch 33, Train loss: 16.39508474172565, Val loss: 17.211174419948033\n",
      "Time12m 35s, epoch 34, Train loss: 16.329429263409864, Val loss: 17.12538315000988\n",
      "Time12m 57s, epoch 35, Train loss: 16.25156390273964, Val loss: 17.086593809581938\n",
      "Time13m 19s, epoch 36, Train loss: 16.189278838772974, Val loss: 17.106238274347213\n",
      "Time13m 42s, epoch 37, Train loss: 16.144931868069587, Val loss: 17.113275300888787\n",
      "Time14m 3s, epoch 38, Train loss: 16.094170270385323, Val loss: 17.02331729162307\n",
      "Time14m 25s, epoch 39, Train loss: 16.058503767197696, Val loss: 17.088870275588263\n",
      "Time14m 47s, epoch 40, Train loss: 15.999900470910305, Val loss: 17.05169069199335\n",
      "Time15m 9s, epoch 41, Train loss: 15.958011700369687, Val loss: 16.944209371294296\n",
      "Time15m 30s, epoch 42, Train loss: 15.922124715016064, Val loss: 17.034731910342263\n",
      "Time15m 52s, epoch 43, Train loss: 15.898436815248367, Val loss: 16.932113102504186\n",
      "Time16m 13s, epoch 44, Train loss: 15.847170625975592, Val loss: 16.921649387904576\n",
      "Time16m 35s, epoch 45, Train loss: 15.820673319196777, Val loss: 16.899366060892742\n",
      "Time16m 57s, epoch 46, Train loss: 15.785835811257176, Val loss: 16.856767336527508\n",
      "Time17m 19s, epoch 47, Train loss: 15.759594086949456, Val loss: 16.91185133797782\n",
      "Time17m 41s, epoch 48, Train loss: 15.719913252668816, Val loss: 16.794482594444638\n",
      "Time18m 3s, epoch 49, Train loss: 15.690782814422619, Val loss: 16.79232306707473\n",
      "Time18m 25s, epoch 50, Train loss: 15.659534588152049, Val loss: 16.785313878740585\n",
      "Time18m 47s, epoch 51, Train loss: 15.634035433293137, Val loss: 16.778724942888534\n",
      "Time19m 9s, epoch 52, Train loss: 15.608358613550195, Val loss: 16.80688880738758\n",
      "Time19m 31s, epoch 53, Train loss: 15.57843979804819, Val loss: 16.73241342817034\n",
      "Time19m 53s, epoch 54, Train loss: 15.557770169698275, Val loss: 16.694373085385276\n",
      "Time20m 16s, epoch 55, Train loss: 15.532923462252414, Val loss: 16.78185630979992\n",
      "Time20m 37s, epoch 56, Train loss: 15.497012986493074, Val loss: 16.90474310375395\n",
      "Time20m 59s, epoch 57, Train loss: 15.479549724228528, Val loss: 16.62912282489595\n",
      "Time21m 21s, epoch 58, Train loss: 15.449172246774287, Val loss: 16.651642118181503\n",
      "Time21m 43s, epoch 59, Train loss: 15.425029367068124, Val loss: 16.61925456637428\n",
      "Time22m 5s, epoch 60, Train loss: 15.40310341316265, Val loss: 16.638260750543502\n",
      "Time22m 27s, epoch 61, Train loss: 15.172002000187405, Val loss: 16.52670451572963\n",
      "Time22m 48s, epoch 62, Train loss: 15.137635023290732, Val loss: 16.534970192682174\n",
      "Time23m 10s, epoch 63, Train loss: 15.126664460734633, Val loss: 16.520631472269695\n",
      "Time23m 32s, epoch 64, Train loss: 15.117822675540271, Val loss: 16.515936715262278\n",
      "Time23m 54s, epoch 65, Train loss: 15.11307081304128, Val loss: 16.515783309936523\n",
      "Time24m 16s, epoch 66, Train loss: 15.109708461319821, Val loss: 16.526885305132186\n",
      "Time24m 38s, epoch 67, Train loss: 15.103866971081803, Val loss: 16.51649338858468\n",
      "Time24m 59s, epoch 68, Train loss: 15.101832105001812, Val loss: 16.51814401717413\n",
      "Time25m 21s, epoch 69, Train loss: 15.097820502435393, Val loss: 16.507686251685733\n",
      "Time25m 43s, epoch 70, Train loss: 15.09277913278463, Val loss: 16.511702673775808\n",
      "Time26m 4s, epoch 71, Train loss: 15.088015619776499, Val loss: 16.509897595360165\n",
      "Time26m 26s, epoch 72, Train loss: 15.083470935537077, Val loss: 16.509259859720867\n",
      "Time26m 48s, epoch 73, Train loss: 15.081845254314189, Val loss: 16.51433681306385\n",
      "Time27m 10s, epoch 74, Train loss: 15.077256673359235, Val loss: 16.508392878941127\n",
      "Time27m 32s, epoch 75, Train loss: 15.075317924213559, Val loss: 16.4969695409139\n",
      "Time27m 54s, epoch 76, Train loss: 15.071080569195411, Val loss: 16.51402977534703\n",
      "Time28m 16s, epoch 77, Train loss: 15.068721492399039, Val loss: 16.49615664709182\n",
      "Time28m 37s, epoch 78, Train loss: 15.063537845993341, Val loss: 16.518588247753325\n",
      "Time28m 59s, epoch 79, Train loss: 15.062353594149675, Val loss: 16.489561217171804\n",
      "Time29m 21s, epoch 80, Train loss: 15.05616464757096, Val loss: 16.510137785048713\n",
      "Time29m 42s, epoch 81, Train loss: 15.02882600635337, Val loss: 16.48944900149391\n",
      "Time30m 4s, epoch 82, Train loss: 15.023972599622406, Val loss: 16.489990643092565\n",
      "Time30m 25s, epoch 83, Train loss: 15.023161734292048, Val loss: 16.489800544012162\n",
      "Time30m 47s, epoch 84, Train loss: 15.021377971819843, Val loss: 16.4881838843936\n",
      "Time31m 9s, epoch 85, Train loss: 15.022037034132042, Val loss: 16.489751861208962\n",
      "Time31m 30s, epoch 86, Train loss: 15.021216473549464, Val loss: 16.49044618152437\n",
      "Time31m 52s, epoch 87, Train loss: 15.020648640590709, Val loss: 16.488594236828032\n",
      "Time32m 13s, epoch 88, Train loss: 15.020658650989622, Val loss: 16.489274796985445\n",
      "Time32m 35s, epoch 89, Train loss: 15.020711792507202, Val loss: 16.489353588649205\n",
      "Time32m 57s, epoch 90, Train loss: 15.019457277360853, Val loss: 16.48918628692627\n",
      "Time33m 18s, epoch 91, Train loss: 15.019406119545737, Val loss: 16.48938551403227\n",
      "Time33m 40s, epoch 92, Train loss: 15.019195730869587, Val loss: 16.4886257989066\n",
      "Time34m 2s, epoch 93, Train loss: 15.017786992775214, Val loss: 16.488257135663712\n",
      "Time34m 24s, epoch 94, Train loss: 15.017306906649232, Val loss: 16.489393007187616\n",
      "Time34m 46s, epoch 95, Train loss: 15.017821140341706, Val loss: 16.489326522463845\n",
      "Time35m 8s, epoch 96, Train loss: 15.017417636172176, Val loss: 16.488840103149414\n",
      "Time35m 30s, epoch 97, Train loss: 15.01682680573905, Val loss: 16.48946376073928\n",
      "Time35m 52s, epoch 98, Train loss: 15.015955598799737, Val loss: 16.491532643636067\n",
      "Time36m 13s, epoch 99, Train loss: 15.017221187310092, Val loss: 16.48983183361235\n",
      "Time36m 35s, epoch 100, Train loss: 15.015725453757042, Val loss: 16.488551548549108\n"
     ]
    }
   ],
   "source": [
    "model = Net().to(device)\n",
    "optm = Adam(model.parameters(), lr=0.0001)\n",
    "\n",
    "scheduler = torch.optim.lr_scheduler.MultiStepLR(optm, milestones = [30,60,80], gamma=0.1)\n",
    "#scheduler = torch.optim.lr_scheduler.ReduceLROnPlateau(optm, factor=0.1, patience=2,eps=1e-7,verbose=True)\n",
    "criterion = nn.MSELoss().to(device)\n",
    "EPOCH_LENGTH = 100\n",
    "BATCH_SIZE = 64\n",
    "\n",
    "all_train_loss = []\n",
    "all_val_loss = []\n",
    "#scheduler = torch.optim.lr_scheduler.MultiStepLR(optm, milestones = [40, 80, 120], gamma=0.1)\n",
    "val_loader_gpu = DataLoader(val_dataset_gpu, batch_size = 2000, shuffle = False)\n",
    "train_loader_gpu = DataLoader(train_dataset_gpu, batch_size = BATCH_SIZE, shuffle = True)\n",
    "\n",
    "start = time.time()\n",
    "for epoch in range(EPOCH_LENGTH):\n",
    "    total_loss  = 0\n",
    "    batch_count = 0\n",
    "    \n",
    "    for i_batch, (x_train, y_train) in enumerate(train_loader_gpu):\n",
    "        loss, _ = train(model, x_train, y_train, optm, criterion)\n",
    "        total_loss += loss.item()\n",
    "        batch_count += 1\n",
    "    \n",
    "    #calculate train loss and val loss\n",
    "    train_loss = total_loss/batch_count\n",
    "    val_loss = getValLoss(model, criterion)\n",
    "    all_train_loss.append(train_loss)\n",
    "    all_val_loss.append(val_loss)\n",
    "    \n",
    "    # log\n",
    "    print('Time{}, epoch {}, Train loss: {}, Val loss: {}'.format(timeSince(start), epoch+1, train_loss, val_loss))\n",
    "    \n",
    "    #scheduler.step(train_loss)\n",
    "    scheduler.step()\n"
   ]
  },
  {
   "cell_type": "code",
   "execution_count": 10,
   "id": "9aefa90d",
   "metadata": {},
   "outputs": [
    {
     "data": {
      "text/plain": [
       "[<matplotlib.lines.Line2D at 0x7fb430788400>]"
      ]
     },
     "execution_count": 10,
     "metadata": {},
     "output_type": "execute_result"
    },
    {
     "data": {
      "image/png": "[encoded data removed]",
      "text/plain": [
       "<Figure size 432x288 with 1 Axes>"
      ]
     },
     "metadata": {
      "needs_background": "light"
     },
     "output_type": "display_data"
    }
   ],
   "source": [
    "plt.plot(all_train_loss)"
   ]
  },
  {
   "cell_type": "code",
   "execution_count": 11,
   "id": "47935331",
   "metadata": {},
   "outputs": [
    {
     "data": {
      "text/plain": [
       "[<matplotlib.lines.Line2D at 0x7fb4383289a0>]"
      ]
     },
     "execution_count": 11,
     "metadata": {},
     "output_type": "execute_result"
    },
    {
     "data": {
      "image/png": "[encoded data removed]",
      "text/plain": [
       "<Figure size 432x288 with 1 Axes>"
      ]
     },
     "metadata": {
      "needs_background": "light"
     },
     "output_type": "display_data"
    }
   ],
   "source": [
    "plt.plot(all_val_loss)"
   ]
  },
  {
   "cell_type": "code",
   "execution_count": 12,
   "id": "a773d505",
   "metadata": {},
   "outputs": [
    {
     "data": {
      "image/png": "[encoded data removed]",
      "text/plain": [
       "<Figure size 432x288 with 2 Axes>"
      ]
     },
     "metadata": {
      "needs_background": "light"
     },
     "output_type": "display_data"
    }
   ],
   "source": [
    "fig, ax = plt.subplots()\n",
    "ax.plot(all_train_loss, color = 'blue', label = \"train\")\n",
    "ax2 = ax.twinx()\n",
    "ax2.plot(all_val_loss, color = 'red', label = \"validation\")\n",
    "ax.tick_params('y', colors='blue')  \n",
    "ax2.tick_params('y', colors='red')\n",
    "fig.legend(loc=\"upper right\",bbox_to_anchor=(1,1), bbox_transform=ax.transAxes)\n",
    "ax.set(title='Train Loss and Validation Loss',\n",
    "      xlabel='No. Epoch', ylabel = 'Loss')\n",
    "plt.show()"
   ]
  },
  {
   "cell_type": "code",
   "execution_count": null,
   "id": "ebdd0871",
   "metadata": {},
   "outputs": [],
   "source": []
  }
 ],
 "metadata": {
  "interpreter": {
   "hash": "40d3a090f54c6569ab1632332b64b2c03c39dcf918b08424e98f38b5ae0af88f"
  },
  "kernelspec": {
   "display_name": "Python 3.8.8 ('base')",
   "language": "python",
   "name": "python3"
  },
  "language_info": {
   "codemirror_mode": {
    "name": "ipython",
    "version": 3
   },
   "file_extension": ".py",
   "mimetype": "text/x-python",
   "name": "python",
   "nbconvert_exporter": "python",
   "pygments_lexer": "ipython3",
   "version": "3.8.8"
  }
 },
 "nbformat": 4,
 "nbformat_minor": 5
}
